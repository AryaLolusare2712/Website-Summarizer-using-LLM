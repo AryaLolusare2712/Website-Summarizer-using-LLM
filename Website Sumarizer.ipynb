{
 "cells": [
  {
   "cell_type": "code",
   "execution_count": 1,
   "id": "d50fe03e-8f77-401d-bd04-898c5a478724",
   "metadata": {},
   "outputs": [],
   "source": [
    "import os\n",
    "import requests\n",
    "from dotenv import load_dotenv\n",
    "from bs4 import BeautifulSoup\n",
    "from IPython.display import Markdown, display\n",
    "from openai import OpenAI\n",
    "\n",
    "ollama_via_openai = OpenAI(base_url='http://localhost:11434/v1', api_key='ollama')"
   ]
  },
  {
   "cell_type": "code",
   "execution_count": 2,
   "id": "6adf0331-47f9-4cfc-b46a-1e7efd22c7af",
   "metadata": {},
   "outputs": [
    {
     "name": "stdout",
     "output_type": "stream",
     "text": [
      "API key found and looks good so far!\n"
     ]
    }
   ],
   "source": [
    "# Load environment variables in a file called .env\n",
    "\n",
    "load_dotenv(override=True)\n",
    "api_key = os.getenv('OPENAI_API_KEY')\n",
    "\n",
    "# Check the key\n",
    "\n",
    "if not api_key:\n",
    "    print(\"No API key was found - please head over to the troubleshooting notebook in this folder to identify & fix!\")\n",
    "elif not api_key.startswith(\"sk-proj-\"):\n",
    "    print(\"An API key was found, but it doesn't start sk-proj-; please check you're using the right key - see troubleshooting notebook\")\n",
    "elif api_key.strip() != api_key:\n",
    "    print(\"An API key was found, but it looks like it might have space or tab characters at the start or end - please remove them - see troubleshooting notebook\")\n",
    "else:\n",
    "    print(\"API key found and looks good so far!\")\n"
   ]
  },
  {
   "cell_type": "code",
   "execution_count": 3,
   "id": "fdc00eb6-bc39-4162-9356-3d289f626a52",
   "metadata": {},
   "outputs": [],
   "source": [
    "openai = OpenAI()"
   ]
  },
  {
   "cell_type": "code",
   "execution_count": 4,
   "id": "1963cae5-be5d-4b27-ac95-57406d921453",
   "metadata": {},
   "outputs": [
    {
     "name": "stdout",
     "output_type": "stream",
     "text": [
      "It's great to meet you too! I'm thrilled to be your conversational AI assistant. Welcome to our virtual chat! I'll do my best to help answer any questions, share interesting facts, or simply chat with you about a topic that interests you.\n",
      "\n",
      "To get us started, how would you like our conversation to unfold? Would you like me to suggest some topics or games, or is there something on your mind that you'd love to talk about?\n"
     ]
    }
   ],
   "source": [
    "message = \"Hello, GPT! This is my first ever message to you! Hi!\"\n",
    "response = response = ollama_via_openai.chat.completions.create(\n",
    "    model=\"llama3.2\",\n",
    "    messages=[{\"role\": \"user\", \"content\": message}]\n",
    ")\n",
    "print(response.choices[0].message.content)"
   ]
  },
  {
   "cell_type": "code",
   "execution_count": 5,
   "id": "28bfeb6f-619f-4519-99c7-5b33a3860671",
   "metadata": {},
   "outputs": [],
   "source": [
    "headers = {\n",
    " \"User-Agent\": \"Mozilla/5.0 (Windows NT 10.0; Win64; x64) AppleWebKit/537.36 (KHTML, like Gecko) Chrome/117.0.0.0 Safari/537.36\"\n",
    "}\n",
    "\n",
    "class Website:\n",
    "\n",
    "    def __init__(self, url):\n",
    "        \"\"\"\n",
    "        Create this Website object from the given url using the BeautifulSoup library\n",
    "        \"\"\"\n",
    "        self.url = url\n",
    "        response = requests.get(url, headers=headers)\n",
    "        soup = BeautifulSoup(response.content, 'html.parser')\n",
    "        self.title = soup.title.string if soup.title else \"No title found\"\n",
    "        for irrelevant in soup.body([\"script\", \"style\", \"img\", \"input\"]):\n",
    "            irrelevant.decompose()\n",
    "        self.text = soup.body.get_text(separator=\"\\n\", strip=True)"
   ]
  },
  {
   "cell_type": "code",
   "execution_count": 6,
   "id": "5595e081-1a52-4eec-b033-0ad9b10d0b1c",
   "metadata": {},
   "outputs": [],
   "source": [
    "system_prompt = \"You are an assistant that analyzes the contents of a website \\\n",
    "and provides a short summary, ignoring text that might be navigation related. \\\n",
    "Respond in markdown.\""
   ]
  },
  {
   "cell_type": "code",
   "execution_count": 7,
   "id": "0241b8e8-5b16-47aa-a58e-9ce36d074df8",
   "metadata": {},
   "outputs": [],
   "source": [
    "def user_prompt_for(website):\n",
    "    user_prompt = f\"You are looking at a website titled {website.title}\"\n",
    "    user_prompt += \"\\nThe contents of this website is as follows; \\\n",
    "please provide a short summary of this website in markdown. \\\n",
    "If it includes news or announcements, then summarize these too.\\n\\n\"\n",
    "    user_prompt += website.text\n",
    "    return user_prompt"
   ]
  },
  {
   "cell_type": "code",
   "execution_count": 8,
   "id": "6d4317b3-8ead-4138-bf1e-3aef69a5bf7e",
   "metadata": {},
   "outputs": [
    {
     "name": "stdout",
     "output_type": "stream",
     "text": [
      "Wolf Biology and Behavior | International Wolf Center\n",
      "Wolf Info\n",
      "Learn About Wolves\n",
      "Wolf FAQ’s\n",
      "Types of Wolves\n",
      "Biology and Behavior\n",
      "Wolves and Humans\n",
      "In-Depth Resources\n",
      "Fact or Scat Trivia\n",
      "Wolves of the World\n",
      "United States\n",
      "Canada\n",
      "Europe\n",
      "Asia\n",
      "Africa\n",
      "Magazine\n",
      "Magazine Archives\n",
      "Wolf Ethogram\n",
      "Facts vs Fiction\n",
      "Just For Kids\n",
      "Vocabulary\n",
      "Fun Wolf Facts\n",
      "Wolf Families\n",
      "Wild Kids Articles\n",
      "The Coloring Den\n",
      "WolfQuest\n",
      "Our Wolves\n",
      "Meet Our Wolves\n",
      "Exhibit Pack Log\n",
      "Retired Pack Log\n",
      "Wolf Cams\n",
      "Wolf Pup Cam\n",
      "Videos\n",
      "Visit\n",
      "Accessibility\n",
      "Plan Your Visit\n",
      "Group Visits\n",
      "Programs\n",
      "Adventure Programs\n",
      "School Programs\n",
      "Webinars\n",
      "WolfLink Virtual Learning for adults & groups\n",
      "Traveling Exhibit\n",
      "Dr. L. David Mech Fellowship\n",
      "2026 International Wolf Symposium\n",
      "About\n",
      "Mission & Vision\n",
      "Diversity, Equity and Inclusion\n",
      "Land Acknowledgment\n",
      "Subscribe\n",
      "History\n",
      "Board of Directors\n",
      "Employment\n",
      "Internships\n",
      "Contact Us\n",
      "Support\n",
      "Donate\n",
      "Become a Member\n",
      "Join the Legacy Pack\n",
      "Other Ways to Support\n",
      "Wolf Guardian Sponsorship\n",
      "Wolf Care Auction\n",
      "Volunteer\n",
      "Join the Howl\n",
      "2023 Annual Report\n",
      "Shop\n",
      "Search\n",
      "Menu\n",
      "Menu\n",
      "Facebook\n",
      "X\n",
      "Instagram\n",
      "Youtube\n",
      "TikTok\n",
      "Biology and Behavior\n",
      "You are here:\n",
      "Home\n",
      "1\n",
      "/\n",
      "Wolf Info\n",
      "2\n",
      "/\n",
      "Basic Wolf Info\n",
      "3\n",
      "/\n",
      "Biology and Behavior\n",
      "Biology\n",
      "&\n",
      "Behavior\n",
      "Use this quick guide to learn the basics of wolf biology and behavior.\n",
      "Follow a manual added link\n",
      "Communication\n",
      "Click here for in-depth information on wolf communication.\n",
      "Follow a manual added link\n",
      "Reproduction\n",
      "Usually only the dominant pair breeds, however in areas where there is a high ratio of prey per wolf, such as in Yellowstone National Park, there can be multiple litters per pack. In the western Great Lakes area wolves breed in February through March and after a gestation period of 63 days, four to six pups are born in late-April or early-May. However, the higher the latitude, the later the breeding. For instance, wolves in northern Canada living at a latitude of 71 degrees breed in late March through April.\n",
      "Pup Development\n",
      "Click here for in-depth information on pup development.\n",
      "Pup Survival\n",
      "Pup survival is directly related to prey availability. Prey availability is generally higher in areas that are being newly colonized by wolves, where wolves have been recently reintroduced, or where adult wolves are harvested.\n",
      "Adult Survival and Longevity\n",
      "The overall survival of yearling and adult wolves in the western Great Lakes area has been documented to vary between 60% and 80%. Gray wolves are known to live up to 13 years in the wild and 16 years in captivity. However, averages vary based on geographic location.\n",
      "The University of Wyoming Museum of Vertebrates has created an\n",
      "online database\n",
      "of skulls and skeletons.\n",
      "Pack and Territory Size\n",
      "The number of individuals per pack can be highly variable, but averages four to eight during winter in the western Great Lakes area with records of up to 16. Pack size can be as high as 30 or more in parts of Canada and Alaska. A wolf pack will roam and defend a territory of between 25 and 100 miles in the western Great Lakes area. Territories can reach hundreds of square miles where prey densities are in low density such as in northwestern Canada.\n",
      "Dispersal and Ability to Colonize New Areas\n",
      "Dispersal is the primary way wolves colonize new areas and maintain genetic diversity. Wolves have been known to disperse up to 550 miles, but more commonly disperse 50 – 100 miles from their natal pack. Generally wolves disperse when 1 – 2 years old as they reach sexual maturity although some adults disperse also. At any one time 5 – 20 percent of the wolf population may be dispersing individuals. Usually a wolf disperses to find an individual of the opposite sex, find a territory, and start a new pack. Some dispersers join packs that are already formed.\n",
      "Young Wolves Find Many Ways to Leave Their Parents\n",
      "Spring 2021 issue of\n",
      "International Wolf\n",
      "magazine\n",
      "Young wolves typically leave home at the age of two or three, striking out to find a mate and form a new pack. The behavior is called dispersal, and according to studies, it appears (crediting Simon and Garfunkel for this terrible pun) there are 50 ways to leave your mother— more or less. Tracy O’Connell describes some of them here, along with factors that may determine dispersal behavior.\n",
      "Learn more.\n",
      "Habitat Requirements\n",
      "Wolves can occur wherever there is a sufficient number of large ungulates such as deer, moose, elk, caribou, bison, and musk ox. Wolves were once considered a wilderness animal, however if human-caused mortality is kept below certain levels, wolves can live in most areas. Historically, they once occupied every habitat that had sufficient prey in North America from mid Mexico to the polar ice pack.\n",
      "Food Requirements\n",
      "Wolves can survive on 2.5 pounds of food per day, but require about five to seven pounds per day to reproduce successfully. Wolves are estimated to eat 10 pounds of food per day on average. Wolves don’t actually eat every day, however as they live a feast or famine lifestyle. They may go several days without a meal and they gorge on over 20 pounds of meat when a kill is made. Wolves primarily feed on prey animals larger than themselves as this provides food for many individuals. However, wolves will prey upon smaller mammals such as beaver and hare. Because wolves as a species inhabit a much wider area than its prey species, different populations of wolves prey upon different animals. Wolves located in the Western Great Lakes region typically prey upon whitetail deer whereas wolves in central Canada prey primarily on caribou.\n",
      "Hunting and Feeding Behavior\n",
      "Click here for in-depth information on wolf hunting and feeding behavior.\n",
      "Impacts on Prey\n",
      "Wolf kill rates vary in relation to winter severity. Young, old, and sick prey animals are often nutritionally stressed and have difficulty traveling in deep snow. Wolf kill rates are highest during severe winters and the following spring. Sometimes wolf predation can keep prey populations at low levels for extended periods, but habitat alterations like forest cutting or fire, improved weather conditions, and human management practices allow prey populations to quickly recover.\n",
      "One example of the predator-prey dynamic is that the reductions in ungulate herds caused by wolves increases habitat quality and helps rid the herd of genetically unfit and diseased individuals. This results in long term maintenance of a healthier ungulate herd. For example, deer and wolves have evolved together and wolf predation has played a crucial role in making the deer what it is today.\n",
      "You may read more in these two articles that discuss the relationship with wolves and their main prey as well an article written by Glen Delguidice:\n",
      "Balancing Minnesota’s Wolves, Deer and Moose\n",
      "Do Wolf Tracks and Few Deer In Your Fall Hunting Area Mean What You Think They Mean?\n",
      "Population Cycles\n",
      "Wolf density often changes with the density of their primary prey. For example, in the northern Great Lakes region, the severe winters of 1995-96 and 1996-97 resulted in substantial numbers of deer being stressed and many starved or were killed by wolves. This provided a readily available food supply to wolves and increased their survival.\n",
      "However, wolf numbers usually decline a year or two following the decline of primary prey. In addition to other factors, the mild winters since 1997 have been favorable to deer populations by increasing the winter survival of deer and in turn increasing the number of fawns being born.\n",
      "Potential for Population Change\n",
      "With abundant food and low human-caused mortality, wolves have a high capacity for population growth. In fact, in the right conditions, wolf populations can double in two to three years. From 1997 to 2000 the wolf population in the Northern Rocky states doubled from 200 to 400. Wolf populations can decline, however, if human-caused mortality is consistently greater than 28-50% of the fall wolf population.\n",
      "Selected References\n",
      "Carbyn, L.C. 1987. Gray wolf and Red wolf. Pages 361-376 in M. Novak, J.A. Baker, M.E. Obbard, and B Malloch editors. Wild Furbearer Management and Conservation in North America. Ontario Ministry of Natural Resources, Ontario, Canada. 1150 pp.\n",
      "Fuller, T.K. 1997. Guidelines for gray wolf management in the northern Great Lakes region. International Wolf Center, publication no. IWC97-271. 20pp.\n",
      "Mech, L.D. 1995. What do we know about wolves and what more do we need to learn? Pages 537-545 in L.N. Carbyn, S.H. Fritts, and D.R. Seip editors. Ecology and conservation of wolves in a changing world. Canadian Circumpolar Institute, occasional publication no. 35. 642 pp.\n",
      "Nowak, R.M. 1995. Another look at wolf taxonomy. Pages 375-398 in L.N. Carbyn, S.H. Fritts, and D.R. Seip editors. Ecology and conservation of wolves in a changing world. Canadian Circumpolar Institute, occasional publication no. 35. 642 pp.\n",
      "Wolf Headlines\n",
      "Birth of 4 Mexican wolf pups brings hope for the endangered canines\n",
      "June 27, 2025\n",
      "Montana Releases Final Wolf Management Plan\n",
      "June 27, 2025\n",
      "Sweden’s wolves in hunters’ sights as government eases protection\n",
      "June 27, 2025\n",
      "Return of the ghost wolf: Saving the Mexican gray wolf\n",
      "June 27, 2025\n",
      "Conservation Groups Sue Feds for Alleged ESA Violations in Wolf Decision\n",
      "June 27, 2025\n",
      "The International Wolf Center uses science-based education to teach and inspire the world about wolves, their ecology, and the wolf-human relationship.\n",
      "© Copyright - International Wolf Center\n",
      "Facebook\n",
      "X\n",
      "Instagram\n",
      "Youtube\n",
      "TikTok\n",
      "Subscribe\n",
      "Employment\n",
      "Internships\n",
      "Media\n",
      "About Us\n",
      "Privacy\n",
      "Sitemap\n",
      "Scroll to top\n",
      "Book Now\n"
     ]
    }
   ],
   "source": [
    "website_url = Website(\"https://wolf.org/wolf-info/basic-wolf-info/biology-and-behavior/\")\n",
    "print(website_url.title)\n",
    "print(website_url.text)"
   ]
  },
  {
   "cell_type": "code",
   "execution_count": 9,
   "id": "5f241dbd-237a-47ad-b392-e12e46fd0a15",
   "metadata": {},
   "outputs": [],
   "source": [
    "def messages_for(website):\n",
    "    return [\n",
    "        {\"role\": \"system\", \"content\": system_prompt},\n",
    "        {\"role\": \"user\", \"content\": user_prompt_for(website)}\n",
    "    ]"
   ]
  },
  {
   "cell_type": "code",
   "execution_count": 10,
   "id": "f8f2d5e3-077e-464c-bfe7-158206148432",
   "metadata": {},
   "outputs": [
    {
     "data": {
      "text/plain": [
       "[{'role': 'system',\n",
       "  'content': 'You are an assistant that analyzes the contents of a website and provides a short summary, ignoring text that might be navigation related. Respond in markdown.'},\n",
       " {'role': 'user',\n",
       "  'content': 'You are looking at a website titled Wolf Biology and Behavior | International Wolf Center\\nThe contents of this website is as follows; please provide a short summary of this website in markdown. If it includes news or announcements, then summarize these too.\\n\\nWolf Info\\nLearn About Wolves\\nWolf FAQ’s\\nTypes of Wolves\\nBiology and Behavior\\nWolves and Humans\\nIn-Depth Resources\\nFact or Scat Trivia\\nWolves of the World\\nUnited States\\nCanada\\nEurope\\nAsia\\nAfrica\\nMagazine\\nMagazine Archives\\nWolf Ethogram\\nFacts vs Fiction\\nJust For Kids\\nVocabulary\\nFun Wolf Facts\\nWolf Families\\nWild Kids Articles\\nThe Coloring Den\\nWolfQuest\\nOur Wolves\\nMeet Our Wolves\\nExhibit Pack Log\\nRetired Pack Log\\nWolf Cams\\nWolf Pup Cam\\nVideos\\nVisit\\nAccessibility\\nPlan Your Visit\\nGroup Visits\\nPrograms\\nAdventure Programs\\nSchool Programs\\nWebinars\\nWolfLink Virtual Learning for adults & groups\\nTraveling Exhibit\\nDr. L. David Mech Fellowship\\n2026 International Wolf Symposium\\nAbout\\nMission & Vision\\nDiversity, Equity and Inclusion\\nLand Acknowledgment\\nSubscribe\\nHistory\\nBoard of Directors\\nEmployment\\nInternships\\nContact Us\\nSupport\\nDonate\\nBecome a Member\\nJoin the Legacy Pack\\nOther Ways to Support\\nWolf Guardian Sponsorship\\nWolf Care Auction\\nVolunteer\\nJoin the Howl\\n2023 Annual Report\\nShop\\nSearch\\nMenu\\nMenu\\nFacebook\\nX\\nInstagram\\nYoutube\\nTikTok\\nBiology and Behavior\\nYou are here:\\nHome\\n1\\n/\\nWolf Info\\n2\\n/\\nBasic Wolf Info\\n3\\n/\\nBiology and Behavior\\nBiology\\n&\\nBehavior\\nUse this quick guide to learn the basics of wolf biology and behavior.\\nFollow a manual added link\\nCommunication\\nClick here for in-depth information on wolf communication.\\nFollow a manual added link\\nReproduction\\nUsually only the dominant pair breeds, however in areas where there is a high ratio of prey per wolf, such as in Yellowstone National Park, there can be multiple litters per pack. In the western Great Lakes area wolves breed in February through March and after a gestation period of 63 days, four to six pups are born in late-April or early-May. However, the higher the latitude, the later the breeding. For instance, wolves in northern Canada living at a latitude of 71 degrees breed in late March through April.\\nPup Development\\nClick here for in-depth information on pup development.\\nPup Survival\\nPup survival is directly related to prey availability. Prey availability is generally higher in areas that are being newly colonized by wolves, where wolves have been recently reintroduced, or where adult wolves are harvested.\\nAdult Survival and Longevity\\nThe overall survival of yearling and adult wolves in the western Great Lakes area has been documented to vary between 60% and 80%. Gray wolves are known to live up to 13 years in the wild and 16 years in captivity. However, averages vary based on geographic location.\\nThe University of Wyoming Museum of Vertebrates has created an\\nonline database\\nof skulls and skeletons.\\nPack and Territory Size\\nThe number of individuals per pack can be highly variable, but averages four to eight during winter in the western Great Lakes area with records of up to 16. Pack size can be as high as 30 or more in parts of Canada and Alaska. A wolf pack will roam and defend a territory of between 25 and 100 miles in the western Great Lakes area. Territories can reach hundreds of square miles where prey densities are in low density such as in northwestern Canada.\\nDispersal and Ability to Colonize New Areas\\nDispersal is the primary way wolves colonize new areas and maintain genetic diversity. Wolves have been known to disperse up to 550 miles, but more commonly disperse 50 – 100 miles from their natal pack. Generally wolves disperse when 1 – 2 years old as they reach sexual maturity although some adults disperse also. At any one time 5 – 20 percent of the wolf population may be dispersing individuals. Usually a wolf disperses to find an individual of the opposite sex, find a territory, and start a new pack. Some dispersers join packs that are already formed.\\nYoung Wolves Find Many Ways to Leave Their Parents\\nSpring 2021 issue of\\nInternational Wolf\\nmagazine\\nYoung wolves typically leave home at the age of two or three, striking out to find a mate and form a new pack. The behavior is called dispersal, and according to studies, it appears (crediting Simon and Garfunkel for this terrible pun) there are 50 ways to leave your mother— more or less. Tracy O’Connell describes some of them here, along with factors that may determine dispersal behavior.\\nLearn more.\\nHabitat Requirements\\nWolves can occur wherever there is a sufficient number of large ungulates such as deer, moose, elk, caribou, bison, and musk ox. Wolves were once considered a wilderness animal, however if human-caused mortality is kept below certain levels, wolves can live in most areas. Historically, they once occupied every habitat that had sufficient prey in North America from mid Mexico to the polar ice pack.\\nFood Requirements\\nWolves can survive on 2.5 pounds of food per day, but require about five to seven pounds per day to reproduce successfully. Wolves are estimated to eat 10 pounds of food per day on average. Wolves don’t actually eat every day, however as they live a feast or famine lifestyle. They may go several days without a meal and they gorge on over 20 pounds of meat when a kill is made. Wolves primarily feed on prey animals larger than themselves as this provides food for many individuals. However, wolves will prey upon smaller mammals such as beaver and hare. Because wolves as a species inhabit a much wider area than its prey species, different populations of wolves prey upon different animals. Wolves located in the Western Great Lakes region typically prey upon whitetail deer whereas wolves in central Canada prey primarily on caribou.\\nHunting and Feeding Behavior\\nClick here for in-depth information on wolf hunting and feeding behavior.\\nImpacts on Prey\\nWolf kill rates vary in relation to winter severity. Young, old, and sick prey animals are often nutritionally stressed and have difficulty traveling in deep snow. Wolf kill rates are highest during severe winters and the following spring. Sometimes wolf predation can keep prey populations at low levels for extended periods, but habitat alterations like forest cutting or fire, improved weather conditions, and human management practices allow prey populations to quickly recover.\\nOne example of the predator-prey dynamic is that the reductions in ungulate herds caused by wolves increases habitat quality and helps rid the herd of genetically unfit and diseased individuals. This results in long term maintenance of a healthier ungulate herd. For example, deer and wolves have evolved together and wolf predation has played a crucial role in making the deer what it is today.\\nYou may read more in these two articles that discuss the relationship with wolves and their main prey as well an article written by Glen Delguidice:\\nBalancing Minnesota’s Wolves, Deer and Moose\\nDo Wolf Tracks and Few Deer In Your Fall Hunting Area Mean What You Think They Mean?\\nPopulation Cycles\\nWolf density often changes with the density of their primary prey. For example, in the northern Great Lakes region, the severe winters of 1995-96 and 1996-97 resulted in substantial numbers of deer being stressed and many starved or were killed by wolves. This provided a readily available food supply to wolves and increased their survival.\\nHowever, wolf numbers usually decline a year or two following the decline of primary prey. In addition to other factors, the mild winters since 1997 have been favorable to deer populations by increasing the winter survival of deer and in turn increasing the number of fawns being born.\\nPotential for Population Change\\nWith abundant food and low human-caused mortality, wolves have a high capacity for population growth. In fact, in the right conditions, wolf populations can double in two to three years. From 1997 to 2000 the wolf population in the Northern Rocky states doubled from 200 to 400. Wolf populations can decline, however, if human-caused mortality is consistently greater than 28-50% of the fall wolf population.\\nSelected References\\nCarbyn, L.C. 1987. Gray wolf and Red wolf. Pages 361-376 in M. Novak, J.A. Baker, M.E. Obbard, and B Malloch editors. Wild Furbearer Management and Conservation in North America. Ontario Ministry of Natural Resources, Ontario, Canada. 1150 pp.\\nFuller, T.K. 1997. Guidelines for gray wolf management in the northern Great Lakes region. International Wolf Center, publication no. IWC97-271. 20pp.\\nMech, L.D. 1995. What do we know about wolves and what more do we need to learn? Pages 537-545 in L.N. Carbyn, S.H. Fritts, and D.R. Seip editors. Ecology and conservation of wolves in a changing world. Canadian Circumpolar Institute, occasional publication no. 35. 642 pp.\\nNowak, R.M. 1995. Another look at wolf taxonomy. Pages 375-398 in L.N. Carbyn, S.H. Fritts, and D.R. Seip editors. Ecology and conservation of wolves in a changing world. Canadian Circumpolar Institute, occasional publication no. 35. 642 pp.\\nWolf Headlines\\nBirth of 4 Mexican wolf pups brings hope for the endangered canines\\nJune 27, 2025\\nMontana Releases Final Wolf Management Plan\\nJune 27, 2025\\nSweden’s wolves in hunters’ sights as government eases protection\\nJune 27, 2025\\nReturn of the ghost wolf: Saving the Mexican gray wolf\\nJune 27, 2025\\nConservation Groups Sue Feds for Alleged ESA Violations in Wolf Decision\\nJune 27, 2025\\nThe International Wolf Center uses science-based education to teach and inspire the world about wolves, their ecology, and the wolf-human relationship.\\n© Copyright - International Wolf Center\\nFacebook\\nX\\nInstagram\\nYoutube\\nTikTok\\nSubscribe\\nEmployment\\nInternships\\nMedia\\nAbout Us\\nPrivacy\\nSitemap\\nScroll to top\\nBook Now'}]"
      ]
     },
     "execution_count": 10,
     "metadata": {},
     "output_type": "execute_result"
    }
   ],
   "source": [
    "messages_for(website_url)"
   ]
  },
  {
   "cell_type": "code",
   "execution_count": 11,
   "id": "37fc5602-affc-4d97-9fbd-19d148fb5459",
   "metadata": {},
   "outputs": [],
   "source": [
    "import ollama\n",
    "\n",
    "def messages_for(website):\n",
    "    return [\n",
    "        {\"role\": \"system\", \"content\": system_prompt},\n",
    "        {\"role\": \"user\", \"content\": user_prompt_for(website)}\n",
    "    ]\n",
    "\n",
    "def summarize(url):\n",
    "    website = Website(url)\n",
    "    response = ollama_via_openai.chat.completions.create(\n",
    "    model=\"llama3.2\",\n",
    "    messages=messages_for(website)\n",
    ")\n",
    "    return response.choices[0].message.content"
   ]
  },
  {
   "cell_type": "code",
   "execution_count": 12,
   "id": "f58397e5-e0e4-430d-a156-85072bd1e952",
   "metadata": {},
   "outputs": [
    {
     "data": {
      "text/plain": [
       "'**Wolf Biology and Behavior**\\n==========================\\n\\nThe International Wolf Center provides comprehensive information on wolf biology and behavior, covering various aspects of their ecology, social structure, habitat requirements, and human-wolf interactions.\\n\\n### Overview\\n\\nThe website features articles, guides, and resources for learning about wolves, including their communication patterns, reproduction, pup development, adult survival, and dispersal habits. It also provides information on hunting and feeding behaviors, prey- predator dynamics, population cycles, and potential changes in wolf populations.\\n\\n### Notable Topics\\n\\n* **Migration and Dispersal**: Young wolves typically disperse at 1-2 years old to find a mate, territory, and start a new pack.\\n* **Hunting and Feeding Behavior**: Wolves primarily feed on prey animals larger than themselves, using a \"feast or famine\" lifestyle with periods of little food followed by gorging on multiple prey items when hunting opportunities arise.\\n* **Human-Wolf Interactions**: The website discusses the impact of human-caused mortality (e.g., hunting, poaching) on wolf populations and how habitat alterations can affect ungulate populations.\\n\\n### Recent News\\n\\nThe International Wolf Center published several articles in 2025:\\n\\n* \"Birth of 4 Mexican wolf pups brings hope for the endangered canines\"\\n* \"Montana Releases Final Wolf Management Plan\"\\n* \"Sweden\\'s wolves in hunters\\' sights as government eases protection\"\\n\\nThese news items highlight ongoing efforts to protect endagered wolf populations and balance human-wolf interactions with conservation goals.\\n\\n### External Resources\\n\\nThe website occasionally features external links to relevant news articles, academic papers, and additional resources related to wolf biology and behavior.'"
      ]
     },
     "execution_count": 12,
     "metadata": {},
     "output_type": "execute_result"
    }
   ],
   "source": [
    "summarize(\"https://wolf.org/wolf-info/basic-wolf-info/biology-and-behavior/\")"
   ]
  },
  {
   "cell_type": "code",
   "execution_count": 13,
   "id": "1523a6f4-2b02-48aa-94d7-eeb39fed9f84",
   "metadata": {},
   "outputs": [],
   "source": [
    "def display_summary(url):\n",
    "    summary = summarize(url)\n",
    "    display(Markdown(summary))"
   ]
  },
  {
   "cell_type": "code",
   "execution_count": 14,
   "id": "4965aee1-db7a-4387-8351-9815050a85b2",
   "metadata": {},
   "outputs": [
    {
     "data": {
      "text/markdown": [
       "**Summary of Wolf Biology and Behavior**\n",
       "=====================================\n",
       "\n",
       "The International Wolf Center website provides in-depth information on wolf biology and behavior. Here's a summary of the key topics:\n",
       "\n",
       "### Biology\n",
       "\n",
       "* Wolves can survive on 2.5 pounds of food per day, but require about five to seven pounds per day to reproduce successfully.\n",
       "* They are known to live up to 13 years in the wild and 16 years in captivity.\n",
       "* Gray wolves inhabit an area much wider than their prey species, with different populations preying on different animals.\n",
       "\n",
       "### Behavior\n",
       "\n",
       "* Dispersal is the primary way wolves colonize new areas and maintain genetic diversity. Wolves typically disperse when 1-2 years old as they reach sexual maturity.\n",
       "* Young wolves often leave home at the age of two or three to find a mate and form a new pack.\n",
       "* Wolf habitats can occur anywhere with sufficient large ungulates, such as deer, moose, elk, caribou, bison, and musk ox.\n",
       "\n",
       "### Habitats and Prey\n",
       "\n",
       "* The number of individuals per pack varies widely from 4-8 in the western Great Lakes area to up to 30 or more in parts of Canada and Alaska.\n",
       "* Pack sizes are typically between 25-100 miles in the western Great Lakes area.\n",
       "* Wolf kill rates vary with winter severity, but can keep prey populations at low levels for extended periods.\n",
       "\n",
       "### Impacts on Prey\n",
       "\n",
       "* Wolf predation has played a crucial role in shaping ungulate herds, making them healthier and more resilient to disease and genetic disorders.\n",
       "* However, wolf-human conflicts can occur if human-caused mortality is high (greater than 28-50% of the fall wolf population).\n",
       "\n",
       "**News and Announcements**\n",
       "---------------------------\n",
       "\n",
       "The website features various news headlines, including:\n",
       "\n",
       "* \"Birth of 4 Mexican Wolf Pups Brings Hope for the Endangered Canines\" (June 27, 2025)\n",
       "* \"Montana Releases Final Wolf Management Plan\"\n",
       "* \"Sweden’s Wolves in Hunters’ Sights as Government Eases Protection\"\n",
       "\n",
       "These announcements highlight the ongoing efforts to conserve and manage wolf populations around the world."
      ],
      "text/plain": [
       "<IPython.core.display.Markdown object>"
      ]
     },
     "metadata": {},
     "output_type": "display_data"
    }
   ],
   "source": [
    "display_summary(\"https://wolf.org/wolf-info/basic-wolf-info/biology-and-behavior/\")"
   ]
  },
  {
   "cell_type": "code",
   "execution_count": null,
   "id": "41b1a45c-4bb0-4a34-8aa6-2fd808a6fc38",
   "metadata": {},
   "outputs": [],
   "source": []
  }
 ],
 "metadata": {
  "kernelspec": {
   "display_name": "Python 3 (ipykernel)",
   "language": "python",
   "name": "python3"
  },
  "language_info": {
   "codemirror_mode": {
    "name": "ipython",
    "version": 3
   },
   "file_extension": ".py",
   "mimetype": "text/x-python",
   "name": "python",
   "nbconvert_exporter": "python",
   "pygments_lexer": "ipython3",
   "version": "3.11.13"
  }
 },
 "nbformat": 4,
 "nbformat_minor": 5
}
